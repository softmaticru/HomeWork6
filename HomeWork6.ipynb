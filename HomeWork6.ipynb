{
 "cells": [
  {
   "cell_type": "code",
   "execution_count": 1,
   "metadata": {},
   "outputs": [
    {
     "name": "stdout",
     "output_type": "stream",
     "text": [
      "Результаты анализа возраста:\n",
      "           age_category\n",
      "0             Старше 25\n",
      "1             Старше 25\n",
      "2             Старше 25\n",
      "3             Старше 25\n",
      "4   Младше или равен 25\n",
      "5             Старше 25\n",
      "6             Старше 25\n",
      "7             Старше 25\n",
      "8             Старше 25\n",
      "9             Старше 25\n",
      "10            Старше 25\n",
      "11            Старше 25\n",
      "12  Младше или равен 25\n",
      "13            Старше 25\n",
      "14            Старше 25\n",
      "15            Старше 25\n"
     ]
    }
   ],
   "source": [
    "import pandas as pd\n",
    "\n",
    "# Задание 1: Загрузка данных и анализ возраста\n",
    "# Загрузка данных из CSV-файла\n",
    "file_path = 'web_clients_correct.csv'  # Укажите путь к вашему файлу\n",
    "data = pd.read_csv(file_path, header=0, names=['name', 'device_type', 'browser', 'sex', 'age', 'bill', 'region'],nrows=16)\n",
    "\n",
    "\n",
    "# Функция для анализа возраста\n",
    "def age_analysis(age):\n",
    "    if age > 25:\n",
    "        return 'Старше 25'\n",
    "    else:\n",
    "        return 'Младше или равен 25'\n",
    "\n",
    "# Применение функции к столбцу 'age' и создание нового столбца 'age_category'\n",
    "data['age_category'] = data['age'].apply(age_analysis)\n",
    "\n",
    "# Вывод результата\n",
    "print(\"Результаты анализа возраста:\")\n",
    "# print(data[['name', 'age', 'age_category']])\n",
    "# вывод согласно требованиям ДЗ\n",
    "print(data[['age_category']])\n"
   ]
  },
  {
   "cell_type": "code",
   "execution_count": 3,
   "metadata": {},
   "outputs": [
    {
     "name": "stdout",
     "output_type": "stream",
     "text": [
      "\n",
      "Отфильтрованные данные (мужчины старше 30):\n",
      "                                    name device_type            browser   sex  \\\n",
      "1         Allison  Master. Hudson Trevor      tablet              Opera  male   \n",
      "5                    Anderson  Mr. Harry      mobile            Firefox  male   \n",
      "7                 Andrews  Mr. Thomas Jr      tablet  Internet Explorer  male   \n",
      "9                Artagaveytia  Mr. Ramon      mobile            Firefox  male   \n",
      "10                Astor  Col. John Jacob     desktop             Chrome  male   \n",
      "14  Barkworth  Mr. Algernon Henry Wilson      laptop             Chrome  male   \n",
      "15                   Baumann  Mr. John D      tablet              Opera  male   \n",
      "\n",
      "    age  bill                           region  \n",
      "1    48   850  Montreal: PQ / Chesterville: ON  \n",
      "5    48   371                     New York: NY  \n",
      "7    39   867                      Belfast: NI  \n",
      "9    71   926              Montevideo: Uruguay  \n",
      "10   47   100                     New York: NY  \n",
      "14   80   723                    Hessle: Yorks  \n",
      "15   48   185                     New York: NY  \n"
     ]
    }
   ],
   "source": [
    "# Задание 2: Фильтрация данных по условиям\n",
    "filtered_data = data[(data['sex'] == 'male') & (data['age'] > 30)].drop(columns=['age_category'])\n",
    "\n",
    "# Вывод отфильтрованных данных\n",
    "print(\"\\nОтфильтрованные данные (мужчины старше 30):\")\n",
    "print(filtered_data)"
   ]
  }
 ],
 "metadata": {
  "kernelspec": {
   "display_name": "GPU",
   "language": "python",
   "name": "python3"
  },
  "language_info": {
   "codemirror_mode": {
    "name": "ipython",
    "version": 3
   },
   "file_extension": ".py",
   "mimetype": "text/x-python",
   "name": "python",
   "nbconvert_exporter": "python",
   "pygments_lexer": "ipython3",
   "version": "3.8.18"
  }
 },
 "nbformat": 4,
 "nbformat_minor": 2
}
